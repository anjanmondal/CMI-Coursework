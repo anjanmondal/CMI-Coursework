{
 "cells": [
  {
   "cell_type": "markdown",
   "id": "ea5d866e",
   "metadata": {},
   "source": [
    "# Linear Algebra and its Applications\n",
    "## Assignment 4\n",
    "\n",
    "\n",
    "Name - Anjan Mondal\n",
    "\n",
    "Roll Number- MDS202208"
   ]
  },
  {
   "cell_type": "markdown",
   "id": "14627283",
   "metadata": {},
   "source": [
    "## Import all prerequisites"
   ]
  },
  {
   "cell_type": "code",
   "execution_count": 1,
   "id": "c5bd2e76",
   "metadata": {},
   "outputs": [],
   "source": [
    "from helper_functions import *\n",
    "import time\n",
    "import scipy as sp\n",
    "import pandas as pd"
   ]
  },
  {
   "cell_type": "markdown",
   "id": "5acaf9fa",
   "metadata": {},
   "source": [
    "## Initialization\n",
    "\n",
    "Initialization of all data structures for storing the following:\n",
    "* Running time of both solvers\n",
    "* Solutions $L,U,P,x$ and the chosen $A$ and $b$ for both solvers"
   ]
  },
  {
   "cell_type": "code",
   "execution_count": 2,
   "id": "69c22aa7",
   "metadata": {},
   "outputs": [],
   "source": [
    "n_list=[1,10,100,500,1000,5000,10000]\n",
    "scipy_LU_rt={} #Running times by scipy's LU factorization algorithm\n",
    "my_LU_rt={}  # Running times by my implementation LU factorization algorithm\n",
    "\n",
    "scipy_subst_rt={} #Running times by scipy's Substitution algorithm\n",
    "my_subst_rt={}   # Running times by my implementation of Substitution algorithm\n",
    "\n",
    "\n",
    "scipy_solutions={}\n",
    "my_solutions={}\n"
   ]
  },
  {
   "cell_type": "markdown",
   "id": "bf76c96f",
   "metadata": {},
   "source": [
    "# Execution\n",
    "\n",
    "Execute the solvers and record the running times"
   ]
  },
  {
   "cell_type": "code",
   "execution_count": 3,
   "id": "bb6bd015",
   "metadata": {},
   "outputs": [],
   "source": [
    "for n in n_list:\n",
    "   \n",
    "    A=np.random.rand(n,n)\n",
    "    b=np.random.rand(n)\n",
    "    \n",
    "    start_time = time.time()\n",
    "    L,U,P=LU_factorize(A)\n",
    "    my_LU_rt[n]=time.time()-start_time\n",
    "    \n",
    "    \n",
    "    start_time=time.time()\n",
    "    x=substitution(L,U,P,b)\n",
    "    my_subst_rt[n]=time.time()-start_time\n",
    "    my_solutions[n]=(L,U,P,x,A,b)\n",
    "    \n",
    "    \n",
    "    start_time=time.time()\n",
    "    p, l, u = sp.linalg.lu(A) # The decomposition is A=plu\n",
    "    scipy_LU_rt[n]=time.time()-start_time\n",
    "    \n",
    "\n",
    "    \n",
    "    lu, piv = sp.linalg.lu_factor(A)\n",
    "    start_time=time.time()\n",
    "    x2 = sp.linalg.lu_solve((lu, piv), b)\n",
    "    scipy_subst_rt[n]=time.time()-start_time\n",
    "    \n",
    "    \n",
    "    scipy_solutions[n]=(l,u,p,x2,A,b)\n",
    "    \n"
   ]
  },
  {
   "cell_type": "markdown",
   "id": "df63d086",
   "metadata": {},
   "source": [
    "## Calculate Norms\n",
    "\n",
    "Calculate the norms of $PA-LU$ and $Ax_0-b$ using both solvers."
   ]
  },
  {
   "cell_type": "code",
   "execution_count": 5,
   "id": "79c2ba9c",
   "metadata": {},
   "outputs": [],
   "source": [
    "my_PA_LU_norms={}\n",
    "scipy_PA_LU_norms={}\n",
    "my_Ax_b_norms={}\n",
    "scipy_Ax_b_norms={}\n",
    "\n",
    "\n",
    "for n in n_list:\n",
    "    L,U,P,x,A,b=my_solutions[n]\n",
    "    my_PA_LU_norms[n]=np.linalg.norm(np.matmul(P,A)-np.matmul(L,U))\n",
    "    my_Ax_b_norms[n]=np.linalg.norm(np.matmul(A,x)-b)\n",
    "    \n",
    "    \n",
    "    L,U,P,x,A,b=scipy_solutions[n]\n",
    "    scipy_PA_LU_norms[n]=np.linalg.norm(A-np.matmul(P,np.matmul(L,U)))\n",
    "    scipy_Ax_b_norms[n]=np.linalg.norm(np.matmul(A,x)-b)\n",
    "    \n"
   ]
  },
  {
   "cell_type": "markdown",
   "id": "046e1998",
   "metadata": {},
   "source": [
    "## Time Taken\n",
    "\n",
    " This table gives us the times taken (in seconds) for LU Factorization and Substitution for both the solvers\n",
    "\n",
    "The columns labels are set as n for an $n\\times n$ matrix"
   ]
  },
  {
   "cell_type": "code",
   "execution_count": 6,
   "id": "a6682bed",
   "metadata": {},
   "outputs": [],
   "source": [
    "all_times={}\n",
    "col_names=[\"LU\",\"LU SciPy\", \"Substitution\",\"Substitution SciPy \"]\n",
    "for n in n_list:\n",
    "    all_times[n]=[my_LU_rt[n],scipy_LU_rt[n], my_subst_rt[n],scipy_subst_rt[n]]\n",
    "time_taken=pd.DataFrame(all_times, index=col_names)"
   ]
  },
  {
   "cell_type": "code",
   "execution_count": 7,
   "id": "b3942b05",
   "metadata": {},
   "outputs": [
    {
     "data": {
      "text/html": [
       "<div>\n",
       "<style scoped>\n",
       "    .dataframe tbody tr th:only-of-type {\n",
       "        vertical-align: middle;\n",
       "    }\n",
       "\n",
       "    .dataframe tbody tr th {\n",
       "        vertical-align: top;\n",
       "    }\n",
       "\n",
       "    .dataframe thead th {\n",
       "        text-align: right;\n",
       "    }\n",
       "</style>\n",
       "<table border=\"1\" class=\"dataframe\">\n",
       "  <thead>\n",
       "    <tr style=\"text-align: right;\">\n",
       "      <th></th>\n",
       "      <th>1</th>\n",
       "      <th>10</th>\n",
       "      <th>100</th>\n",
       "      <th>500</th>\n",
       "      <th>1000</th>\n",
       "      <th>5000</th>\n",
       "      <th>10000</th>\n",
       "    </tr>\n",
       "  </thead>\n",
       "  <tbody>\n",
       "    <tr>\n",
       "      <th>LU</th>\n",
       "      <td>0.000000</td>\n",
       "      <td>0.0</td>\n",
       "      <td>0.016196</td>\n",
       "      <td>0.580633</td>\n",
       "      <td>2.726164</td>\n",
       "      <td>128.682333</td>\n",
       "      <td>916.863778</td>\n",
       "    </tr>\n",
       "    <tr>\n",
       "      <th>LU SciPy</th>\n",
       "      <td>0.125434</td>\n",
       "      <td>0.0</td>\n",
       "      <td>0.000000</td>\n",
       "      <td>0.015593</td>\n",
       "      <td>0.031233</td>\n",
       "      <td>1.318268</td>\n",
       "      <td>23.225082</td>\n",
       "    </tr>\n",
       "    <tr>\n",
       "      <th>Substitution</th>\n",
       "      <td>0.000000</td>\n",
       "      <td>0.0</td>\n",
       "      <td>0.000000</td>\n",
       "      <td>0.000000</td>\n",
       "      <td>0.000000</td>\n",
       "      <td>0.059418</td>\n",
       "      <td>0.397035</td>\n",
       "    </tr>\n",
       "    <tr>\n",
       "      <th>Substitution SciPy</th>\n",
       "      <td>0.000000</td>\n",
       "      <td>0.0</td>\n",
       "      <td>0.000000</td>\n",
       "      <td>0.000000</td>\n",
       "      <td>0.000000</td>\n",
       "      <td>0.000000</td>\n",
       "      <td>0.073293</td>\n",
       "    </tr>\n",
       "  </tbody>\n",
       "</table>\n",
       "</div>"
      ],
      "text/plain": [
       "                        1      10        100       500       1000   \\\n",
       "LU                   0.000000    0.0  0.016196  0.580633  2.726164   \n",
       "LU SciPy             0.125434    0.0  0.000000  0.015593  0.031233   \n",
       "Substitution         0.000000    0.0  0.000000  0.000000  0.000000   \n",
       "Substitution SciPy   0.000000    0.0  0.000000  0.000000  0.000000   \n",
       "\n",
       "                          5000        10000  \n",
       "LU                   128.682333  916.863778  \n",
       "LU SciPy               1.318268   23.225082  \n",
       "Substitution           0.059418    0.397035  \n",
       "Substitution SciPy     0.000000    0.073293  "
      ]
     },
     "execution_count": 7,
     "metadata": {},
     "output_type": "execute_result"
    }
   ],
   "source": [
    "time_taken"
   ]
  },
  {
   "cell_type": "markdown",
   "id": "cfbcd6bb",
   "metadata": {},
   "source": [
    "## Norms Table\n",
    "\n",
    "This table gives us the the matrix norms of $PA-LU$ and $Ax_0-b$ for both solvers.\n",
    "\n",
    "The columns labels are set as n for an $n\\times n $matrix\n"
   ]
  },
  {
   "cell_type": "code",
   "execution_count": 8,
   "id": "c312804e",
   "metadata": {},
   "outputs": [],
   "source": [
    "matrix_norms={}\n",
    "col_names=[\"PA-LU\",\"PA-LU SciPy\", \"Ax-b\",\"Ax-b SciPy\"]\n",
    "for n in n_list:\n",
    "    matrix_norms[n]=[my_PA_LU_norms[n],scipy_PA_LU_norms[n], my_Ax_b_norms[n],scipy_Ax_b_norms[n]]\n",
    "norm_table=pd.DataFrame(matrix_norms, index=col_names)"
   ]
  },
  {
   "cell_type": "code",
   "execution_count": 9,
   "id": "b93a2293",
   "metadata": {},
   "outputs": [
    {
     "data": {
      "text/html": [
       "<div>\n",
       "<style scoped>\n",
       "    .dataframe tbody tr th:only-of-type {\n",
       "        vertical-align: middle;\n",
       "    }\n",
       "\n",
       "    .dataframe tbody tr th {\n",
       "        vertical-align: top;\n",
       "    }\n",
       "\n",
       "    .dataframe thead th {\n",
       "        text-align: right;\n",
       "    }\n",
       "</style>\n",
       "<table border=\"1\" class=\"dataframe\">\n",
       "  <thead>\n",
       "    <tr style=\"text-align: right;\">\n",
       "      <th></th>\n",
       "      <th>1</th>\n",
       "      <th>10</th>\n",
       "      <th>100</th>\n",
       "      <th>500</th>\n",
       "      <th>1000</th>\n",
       "      <th>5000</th>\n",
       "      <th>10000</th>\n",
       "    </tr>\n",
       "  </thead>\n",
       "  <tbody>\n",
       "    <tr>\n",
       "      <th>PA-LU</th>\n",
       "      <td>0.0</td>\n",
       "      <td>5.383795e-16</td>\n",
       "      <td>2.861281e-14</td>\n",
       "      <td>4.760205e-13</td>\n",
       "      <td>1.686134e-12</td>\n",
       "      <td>3.257530e-11</td>\n",
       "      <td>1.191446e-10</td>\n",
       "    </tr>\n",
       "    <tr>\n",
       "      <th>PA-LU SciPy</th>\n",
       "      <td>0.0</td>\n",
       "      <td>5.783892e-16</td>\n",
       "      <td>2.667814e-14</td>\n",
       "      <td>4.249832e-13</td>\n",
       "      <td>1.434099e-12</td>\n",
       "      <td>2.458436e-11</td>\n",
       "      <td>8.317461e-11</td>\n",
       "    </tr>\n",
       "    <tr>\n",
       "      <th>Ax-b</th>\n",
       "      <td>0.0</td>\n",
       "      <td>3.007864e-15</td>\n",
       "      <td>1.206219e-13</td>\n",
       "      <td>4.624882e-13</td>\n",
       "      <td>4.761288e-12</td>\n",
       "      <td>5.234042e-10</td>\n",
       "      <td>2.340650e-08</td>\n",
       "    </tr>\n",
       "    <tr>\n",
       "      <th>Ax-b SciPy</th>\n",
       "      <td>0.0</td>\n",
       "      <td>2.641304e-15</td>\n",
       "      <td>1.550325e-13</td>\n",
       "      <td>7.755543e-13</td>\n",
       "      <td>7.645528e-12</td>\n",
       "      <td>9.339654e-10</td>\n",
       "      <td>6.158627e-08</td>\n",
       "    </tr>\n",
       "  </tbody>\n",
       "</table>\n",
       "</div>"
      ],
      "text/plain": [
       "             1             10            100           500           1000   \\\n",
       "PA-LU          0.0  5.383795e-16  2.861281e-14  4.760205e-13  1.686134e-12   \n",
       "PA-LU SciPy    0.0  5.783892e-16  2.667814e-14  4.249832e-13  1.434099e-12   \n",
       "Ax-b           0.0  3.007864e-15  1.206219e-13  4.624882e-13  4.761288e-12   \n",
       "Ax-b SciPy     0.0  2.641304e-15  1.550325e-13  7.755543e-13  7.645528e-12   \n",
       "\n",
       "                    5000          10000  \n",
       "PA-LU        3.257530e-11  1.191446e-10  \n",
       "PA-LU SciPy  2.458436e-11  8.317461e-11  \n",
       "Ax-b         5.234042e-10  2.340650e-08  \n",
       "Ax-b SciPy   9.339654e-10  6.158627e-08  "
      ]
     },
     "execution_count": 9,
     "metadata": {},
     "output_type": "execute_result"
    }
   ],
   "source": [
    "norm_table"
   ]
  }
 ],
 "metadata": {
  "kernelspec": {
   "display_name": "Python 3 (ipykernel)",
   "language": "python",
   "name": "python3"
  },
  "language_info": {
   "codemirror_mode": {
    "name": "ipython",
    "version": 3
   },
   "file_extension": ".py",
   "mimetype": "text/x-python",
   "name": "python",
   "nbconvert_exporter": "python",
   "pygments_lexer": "ipython3",
   "version": "3.9.16"
  }
 },
 "nbformat": 4,
 "nbformat_minor": 5
}
