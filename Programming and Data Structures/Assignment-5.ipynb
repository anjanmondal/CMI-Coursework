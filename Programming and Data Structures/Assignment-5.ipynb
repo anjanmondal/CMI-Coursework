{
 "cells": [
  {
   "cell_type": "markdown",
   "id": "a48a1b71",
   "metadata": {},
   "source": [
    "# PDSP Assignment 5\n",
    "\n",
    "Name - Anjan Mondal <br>\n",
    "Roll no. - MDS202208"
   ]
  },
  {
   "cell_type": "code",
   "execution_count": 1,
   "id": "67048592",
   "metadata": {},
   "outputs": [],
   "source": [
    "import time\n",
    "import random\n",
    "import numpy as np\n",
    "import sys\n",
    "sys.setrecursionlimit(2**31-1)"
   ]
  },
  {
   "cell_type": "markdown",
   "id": "6b6371fb",
   "metadata": {},
   "source": [
    "## List for Question 1 and 2"
   ]
  },
  {
   "cell_type": "code",
   "execution_count": 2,
   "id": "685582c7",
   "metadata": {},
   "outputs": [],
   "source": [
    "K=100\n",
    "N=5000\n",
    "randomlist_list=[]\n",
    "for i in range(K):\n",
    "    randomlist = random.sample(range(-5000, 5000), N)\n",
    "    randomlist_list.append(randomlist)"
   ]
  },
  {
   "cell_type": "markdown",
   "id": "b0ebd01d",
   "metadata": {},
   "source": [
    "## Question 1\n",
    "Run selection sort on K random lists of size N and compute the mean and standard deviation. Repeat this M times, so you should report M pairs of the form (mean_run_time, std_deviation) ."
   ]
  },
  {
   "cell_type": "code",
   "execution_count": 7,
   "id": "739a2042",
   "metadata": {},
   "outputs": [],
   "source": [
    "def SelectionSort(L):\n",
    "   n = len(L)\n",
    "   if n < 1:\n",
    "      return(L)\n",
    "   for i in range(n):\n",
    "      # Assume L[:i] is sorted\n",
    "      mpos = i  \n",
    "      # mpos is position of minimum in L[i:]\n",
    "      for j in range(i+1,n):\n",
    "        if L[j] < L[mpos]:\n",
    "           mpos = j\n",
    "      # L[mpos] is the smallest value in L[i:]\n",
    "      (L[i],L[mpos]) = (L[mpos],L[i])\n",
    "      # Now L[:i+1] is sorted\n",
    "   return(L)"
   ]
  },
  {
   "cell_type": "code",
   "execution_count": 8,
   "id": "d68fa543",
   "metadata": {},
   "outputs": [
    {
     "name": "stdout",
     "output_type": "stream",
     "text": [
      "Mean : 0.7718655579999996, Standard Deviation : 0.15774374818092202\n",
      "Mean : 0.6857176540000001, Standard Deviation : 0.018983529333730723\n",
      "Mean : 0.7322718539999994, Standard Deviation : 0.006404355490918785\n",
      "Mean : 0.7317702150000025, Standard Deviation : 0.004761510904607969\n",
      "Mean : 0.7322534260000043, Standard Deviation : 0.023906032102140876\n"
     ]
    }
   ],
   "source": [
    "M=5\n",
    "run_times=[]\n",
    "for runs in range(M):\n",
    "    elapsed_times=[]\n",
    "    for l in randomlist_list:\n",
    "        starttime = time.perf_counter()\n",
    "        SelectionSort(l)\n",
    "        elapsed = time.perf_counter() - starttime\n",
    "        elapsed_times.append(elapsed)\n",
    "    run_times.append((np.mean(elapsed_times),np.std(elapsed_times)))\n",
    "for i in run_times:\n",
    "    print(\"Mean : {}, Standard Deviation : {}\".format(i[0],i[1]))"
   ]
  },
  {
   "cell_type": "markdown",
   "id": "6f2b84dd",
   "metadata": {},
   "source": [
    "## Question 2\n",
    "\n",
    "Run (iterative) insertion sort on K random lists of size N and compute the mean and standard deviation. Repeat this M times, so you should report M pairs of the form(mean_run_time, std_deviation)."
   ]
  },
  {
   "cell_type": "code",
   "execution_count": 7,
   "id": "178f6b8f",
   "metadata": {},
   "outputs": [],
   "source": [
    "def InsertionSort(L):\n",
    "   n = len(L)\n",
    "   if n < 1:\n",
    "      return(L)\n",
    "   for i in range(n):\n",
    "      # Assume L[:i] is sorted\n",
    "      # Move L[i] to correct position in L[:i]\n",
    "      j = i\n",
    "      while(j > 0 and L[j] < L[j-1]):\n",
    "        (L[j],L[j-1]) = (L[j-1],L[j])\n",
    "        j = j-1\n",
    "      # Now L[:i+1] is sorted\n",
    "   return(L)"
   ]
  },
  {
   "cell_type": "code",
   "execution_count": 10,
   "id": "6becd1be",
   "metadata": {},
   "outputs": [
    {
     "name": "stdout",
     "output_type": "stream",
     "text": [
      "Mean : 0.0005358679999812921, Standard Deviation : 0.00011902713210596348\n",
      "Mean : 0.0004903770000032636, Standard Deviation : 9.070538997751704e-05\n",
      "Mean : 0.0004981250000082582, Standard Deviation : 8.3696383885281e-05\n",
      "Mean : 0.000507228999997551, Standard Deviation : 5.789769130305737e-05\n",
      "Mean : 0.0005238009999925453, Standard Deviation : 6.208048404766106e-05\n"
     ]
    }
   ],
   "source": [
    "M=5\n",
    "run_times=[]\n",
    "for runs in range(M):\n",
    "    elapsed_times=[]\n",
    "    for l in randomlist_list:\n",
    "        starttime = time.perf_counter()\n",
    "        InsertionSort(l)\n",
    "        elapsed = time.perf_counter() - starttime\n",
    "        elapsed_times.append(elapsed)\n",
    "    run_times.append((np.mean(elapsed_times),np.std(elapsed_times)))\n",
    "for i in run_times:\n",
    "    print(\"Mean : {}, Standard Deviation : {}\".format(i[0],i[1]))"
   ]
  },
  {
   "cell_type": "markdown",
   "id": "c2b8f6a0",
   "metadata": {},
   "source": [
    "## Lists for Question 3 and 4"
   ]
  },
  {
   "cell_type": "code",
   "execution_count": 3,
   "id": "c7631984",
   "metadata": {},
   "outputs": [],
   "source": [
    "K=100\n",
    "N=50000\n",
    "randomlist_list2=[]\n",
    "for i in range(K):\n",
    "    randomlist = random.sample(range(-50000, 50000), N)\n",
    "    randomlist_list2.append(randomlist)\n",
    "\n",
    "cutoff_vals=[0,5,10,15,20,60,80]"
   ]
  },
  {
   "cell_type": "markdown",
   "id": "0e093fc8",
   "metadata": {},
   "source": [
    "## Question 3\n",
    "\n",
    "Implement a variant of mergesort that switches to (iterative) insertion sort when the list length is less than than cutoff.\n",
    "Run this hybrid merge-iteration sort on K random lists of size N and compute the mean and standard deviation. Repeat this M times, so you should report M pairs of the form (mean_run_time, std_deviation). Try this for different values of cutoff below\n",
    "100, including cutoff = 0."
   ]
  },
  {
   "cell_type": "code",
   "execution_count": 4,
   "id": "09d519a1",
   "metadata": {},
   "outputs": [],
   "source": [
    "def merge(A,B):\n",
    "  (m,n) = (len(A),len(B))\n",
    "  (C,i,j,k) = ([],0,0,0)\n",
    "  while k < m+n:\n",
    "    if i == m:\n",
    "      C.extend(B[j:])\n",
    "      k = k + (n-j)\n",
    "    elif j == n:\n",
    "      C.extend(A[i:])\n",
    "      k = k + (n-i)\n",
    "    elif A[i] < B[j]:\n",
    "      C.append(A[i])\n",
    "      (i,k) = (i+1,k+1)\n",
    "    else:\n",
    "      C.append(B[j])\n",
    "      (j,k) = (j+1,k+1)\n",
    "  return(C)\n",
    "\n",
    "\n",
    "def mergesort_var(A,cutoff):\n",
    "  n = len(A)\n",
    "  if n<cutoff:\n",
    "        return (InsertionSort(A))\n",
    "  if n <= 1:\n",
    "     return(A)\n",
    "  L = mergesort_var(A[:n//2],cutoff)\n",
    "  R = mergesort_var(A[n//2:],cutoff)\n",
    "\n",
    "  B = merge(L,R)\n",
    "  \n",
    "  return(B)"
   ]
  },
  {
   "cell_type": "code",
   "execution_count": 10,
   "id": "4c64500f",
   "metadata": {},
   "outputs": [
    {
     "name": "stdout",
     "output_type": "stream",
     "text": [
      "Cutoff : 0\n",
      "Mean : 0.3208510910003679, Standard Deviation : 0.004083026415797522\n",
      "Mean : 0.31889914800063707, Standard Deviation : 0.0016276668244354475\n",
      "Mean : 0.3199976179987425, Standard Deviation : 0.0025039265788151036\n",
      "Mean : 0.3188102979969699, Standard Deviation : 0.0016079040471532957\n",
      "Mean : 0.31879226699646096, Standard Deviation : 0.0015685437254022736\n",
      "\n",
      "========\n",
      "Cutoff : 5\n",
      "Mean : 0.28036186899524185, Standard Deviation : 0.004187643031764892\n",
      "Mean : 0.2810154309956124, Standard Deviation : 0.004839383273105437\n",
      "Mean : 0.27888506200455593, Standard Deviation : 0.0026717488246020818\n",
      "Mean : 0.28764309400110505, Standard Deviation : 0.009172134594021641\n",
      "Mean : 0.2801921129960101, Standard Deviation : 0.00415673646999765\n",
      "\n",
      "========\n",
      "Cutoff : 10\n",
      "Mean : 0.26471224199805876, Standard Deviation : 0.0015934456029048731\n",
      "Mean : 0.2734947909985203, Standard Deviation : 0.011700459018089223\n",
      "Mean : 0.2687071180029307, Standard Deviation : 0.00791415777809173\n",
      "Mean : 0.271087588002556, Standard Deviation : 0.010156068267401855\n",
      "Mean : 0.27213091799931133, Standard Deviation : 0.009010087350023906\n",
      "\n",
      "========\n",
      "Cutoff : 15\n",
      "Mean : 0.27626521900063383, Standard Deviation : 0.017691255736600107\n",
      "Mean : 0.27785743500164245, Standard Deviation : 0.014965636776597341\n",
      "Mean : 0.2688820719992509, Standard Deviation : 0.002263596175971835\n",
      "Mean : 0.2783506469981512, Standard Deviation : 0.013886329528894004\n",
      "Mean : 0.27065241599455475, Standard Deviation : 0.006905465680974494\n",
      "\n",
      "========\n",
      "Cutoff : 20\n",
      "Mean : 0.2682445080036996, Standard Deviation : 0.0038079835693165145\n",
      "Mean : 0.267218123995699, Standard Deviation : 0.001592554806877573\n",
      "Mean : 0.2681766519957455, Standard Deviation : 0.0014429886854818014\n",
      "Mean : 0.272669087004615, Standard Deviation : 0.007591796993900908\n",
      "Mean : 0.27181528800108934, Standard Deviation : 0.005430921442544148\n",
      "\n",
      "========\n",
      "Cutoff : 60\n",
      "Mean : 0.3729273619997548, Standard Deviation : 0.003296811957066572\n",
      "Mean : 0.3745142579998355, Standard Deviation : 0.00474317963868801\n",
      "Mean : 0.3716881259990623, Standard Deviation : 0.0022597166662691208\n",
      "Mean : 0.37163531100261027, Standard Deviation : 0.0036427400697158214\n",
      "Mean : 0.371162393000559, Standard Deviation : 0.003963846353837687\n",
      "\n",
      "========\n",
      "Cutoff : 80\n",
      "Mean : 0.3734073559998069, Standard Deviation : 0.005961846869459585\n",
      "Mean : 0.37274957399233244, Standard Deviation : 0.004701911243776187\n",
      "Mean : 0.37054827700019816, Standard Deviation : 0.0031546786656291995\n",
      "Mean : 0.3726808420015732, Standard Deviation : 0.005527693109880828\n",
      "Mean : 0.37397713799960913, Standard Deviation : 0.006077190697989068\n",
      "\n",
      "========\n"
     ]
    }
   ],
   "source": [
    "M=5\n",
    "\n",
    "\n",
    "for cutoff in cutoff_vals:\n",
    "    run_times=[]\n",
    "    for runs in range(M):\n",
    "        elapsed_times=[]\n",
    "        for l in randomlist_list2:\n",
    "            starttime = time.perf_counter()\n",
    "            mergesort_var(l,cutoff)\n",
    "            elapsed = time.perf_counter() - starttime\n",
    "            elapsed_times.append(elapsed)\n",
    "        run_times.append((np.mean(elapsed_times),np.std(elapsed_times)))\n",
    "    print(\"Cutoff : {}\".format(cutoff))\n",
    "    for i in run_times:\n",
    "        print(\"Mean : {}, Standard Deviation : {}\".format(i[0],i[1]))\n",
    "    print(\"\")\n",
    "    print(\"========\")"
   ]
  },
  {
   "cell_type": "markdown",
   "id": "398c060d",
   "metadata": {},
   "source": [
    " The optimum cutoff might lie around 15. Let us check all values around."
   ]
  },
  {
   "cell_type": "code",
   "execution_count": 9,
   "id": "bfb03961",
   "metadata": {},
   "outputs": [
    {
     "name": "stdout",
     "output_type": "stream",
     "text": [
      "Cutoff : 14\n",
      "Mean : 0.2706021000002511, Standard Deviation : 0.004338042738452766\n",
      "Mean : 0.2687789429997792, Standard Deviation : 0.0030383101453373743\n",
      "Mean : 0.26997514700284225, Standard Deviation : 0.004253911932486518\n",
      "Mean : 0.2683520610042615, Standard Deviation : 0.002643995283211628\n",
      "Mean : 0.27002043699787465, Standard Deviation : 0.0048577185337628295\n",
      "\n",
      "========\n",
      "Cutoff : 15\n",
      "Mean : 0.26750273399986324, Standard Deviation : 0.00244038607835254\n",
      "Mean : 0.270137576002744, Standard Deviation : 0.013478661599381138\n",
      "Mean : 0.26688850299862676, Standard Deviation : 0.0016915466536071724\n",
      "Mean : 0.26766347699973264, Standard Deviation : 0.0035488123761924836\n",
      "Mean : 0.2663982909976039, Standard Deviation : 0.0013963176136081528\n",
      "\n",
      "========\n",
      "Cutoff : 16\n",
      "Mean : 0.2680902129987953, Standard Deviation : 0.0022222542911105782\n",
      "Mean : 0.26730721699888815, Standard Deviation : 0.000993282293260115\n",
      "Mean : 0.26653492099780124, Standard Deviation : 0.001237412936763806\n",
      "Mean : 0.2669336149975425, Standard Deviation : 0.0020102253323208267\n",
      "Mean : 0.26714800400077365, Standard Deviation : 0.0015332445015291058\n",
      "\n",
      "========\n",
      "Cutoff : 17\n",
      "Mean : 0.26770695100538433, Standard Deviation : 0.0012549701145634137\n",
      "Mean : 0.26792485000041777, Standard Deviation : 0.0010337045566483848\n",
      "Mean : 0.2667426450015046, Standard Deviation : 0.0013943996351995452\n",
      "Mean : 0.2732479830016382, Standard Deviation : 0.02750561464809288\n",
      "Mean : 0.26723114399821496, Standard Deviation : 0.0011474610149275791\n",
      "\n",
      "========\n"
     ]
    }
   ],
   "source": [
    "M=5\n",
    "for cutoff in range(14,18):\n",
    "    run_times=[]\n",
    "    for runs in range(M):\n",
    "        elapsed_times=[]\n",
    "        for l in randomlist_list2:\n",
    "            starttime = time.perf_counter()\n",
    "            mergesort_var(l,cutoff)\n",
    "            elapsed = time.perf_counter() - starttime\n",
    "            elapsed_times.append(elapsed)\n",
    "        run_times.append((np.mean(elapsed_times),np.std(elapsed_times)))\n",
    "    print(\"Cutoff : {}\".format(cutoff))\n",
    "    for i in run_times:\n",
    "        print(\"Mean : {}, Standard Deviation : {}\".format(i[0],i[1]))\n",
    "    print(\"\")\n",
    "    print(\"========\")"
   ]
  },
  {
   "cell_type": "markdown",
   "id": "657eaf26",
   "metadata": {},
   "source": [
    "Thus, the optimum cutoff value is 16."
   ]
  },
  {
   "cell_type": "markdown",
   "id": "a41d5e7b",
   "metadata": {},
   "source": [
    "# Question 4\n",
    "\n",
    "Implement a variant of quicksort that switches to (iterative) insertion sort when the list length is less than than cutoff.\n",
    "Run this hybrid quick-iteration sort on K random lists of size N and compute the mean and standard deviation. Repeat this M times, so you should report M pairs of the form (mean_run_time, std_deviation). Try this for different values of cutoff below 100, including cutoff = 0."
   ]
  },
  {
   "cell_type": "code",
   "execution_count": 11,
   "id": "a919c9c2",
   "metadata": {},
   "outputs": [],
   "source": [
    "def quicksort(L,l,r,cutoff):  # Sort L[l:r]\n",
    "  if (r-l <=cutoff):\n",
    "    InsertionSort(L[l:r])\n",
    "    return L\n",
    "  if (r - l <= 1):\n",
    "    return\n",
    "  (pivot,lower,upper) = (L[l],l+1,l+1)\n",
    "  for i in range(l+1,r):\n",
    "    if L[i] > pivot:  # Extend upper segment\n",
    "      upper = upper+1\n",
    "    else:  # Exchange L[i] with start of upper segment\n",
    "      (L[i], L[lower]) = (L[lower], L[i])\n",
    "      # Shift both segments\n",
    "      (lower,upper) = (lower+1,upper+1)\n",
    "  # Move pivot between lower and upper\n",
    "  (L[l],L[lower-1]) = (L[lower-1],L[l])\n",
    "  lower = lower-1\n",
    "  # Recursive calls\n",
    "  quicksort(L,l,lower,cutoff)\n",
    "  quicksort(L,lower+1,upper,cutoff)\n",
    "  return"
   ]
  },
  {
   "cell_type": "code",
   "execution_count": 12,
   "id": "a5980979",
   "metadata": {},
   "outputs": [
    {
     "name": "stdout",
     "output_type": "stream",
     "text": [
      "Cutoff : 0\n",
      "Mean : 0.23789433799684048, Standard Deviation : 0.010811233384816987\n",
      "Mean : 0.2340484610002022, Standard Deviation : 0.008656768468248463\n",
      "Mean : 0.23468034900026397, Standard Deviation : 0.009073823035713241\n",
      "Mean : 0.2356264969962649, Standard Deviation : 0.009923497793893232\n",
      "Mean : 0.23379782199917826, Standard Deviation : 0.008597945791143043\n",
      "\n",
      "========\n",
      "Cutoff : 5\n",
      "Mean : 0.2211527439969359, Standard Deviation : 0.010820299705204563\n",
      "Mean : 0.21808658100198955, Standard Deviation : 0.008583859201199242\n",
      "Mean : 0.21868444899911993, Standard Deviation : 0.008659044906169738\n",
      "Mean : 0.2177555519976886, Standard Deviation : 0.008688803926663704\n",
      "Mean : 0.218651507999748, Standard Deviation : 0.008617762042007069\n",
      "\n",
      "========\n",
      "Cutoff : 10\n",
      "Mean : 0.21355775499599985, Standard Deviation : 0.008753373096259611\n",
      "Mean : 0.2124848060007207, Standard Deviation : 0.008416224023596514\n",
      "Mean : 0.2123584320000373, Standard Deviation : 0.008297108221349802\n",
      "Mean : 0.21345612200326286, Standard Deviation : 0.008558420410751352\n",
      "Mean : 0.21270721900335046, Standard Deviation : 0.008524240045584745\n",
      "\n",
      "========\n",
      "Cutoff : 15\n",
      "Mean : 0.21847019899752923, Standard Deviation : 0.009691614335828356\n",
      "Mean : 0.21570953500107862, Standard Deviation : 0.008712565558691881\n",
      "Mean : 0.21577201299776788, Standard Deviation : 0.008649482835396446\n",
      "Mean : 0.21654801099735776, Standard Deviation : 0.00893043007546531\n",
      "Mean : 0.21644474400032776, Standard Deviation : 0.008955225678612885\n",
      "\n",
      "========\n",
      "Cutoff : 20\n",
      "Mean : 0.22482928800280205, Standard Deviation : 0.009271856585345515\n",
      "Mean : 0.2248548900015885, Standard Deviation : 0.010092349302413418\n",
      "Mean : 0.22554217499680818, Standard Deviation : 0.009900221968951893\n",
      "Mean : 0.22382109400059563, Standard Deviation : 0.009623848134793129\n",
      "Mean : 0.2233508319966495, Standard Deviation : 0.009806997357431124\n",
      "\n",
      "========\n",
      "Cutoff : 60\n",
      "Mean : 0.3013121930015041, Standard Deviation : 0.012284085043374058\n",
      "Mean : 0.29912043100164737, Standard Deviation : 0.01091514700565621\n",
      "Mean : 0.29723623300145846, Standard Deviation : 0.012679163732551514\n",
      "Mean : 0.3086163720022887, Standard Deviation : 0.016172128596689792\n",
      "Mean : 0.3027754139935132, Standard Deviation : 0.01345629646633295\n",
      "\n",
      "========\n",
      "Cutoff : 80\n",
      "Mean : 0.3573044790001586, Standard Deviation : 0.025500428545886338\n",
      "Mean : 0.3463194500020472, Standard Deviation : 0.01584738933627778\n",
      "Mean : 0.3470338260062272, Standard Deviation : 0.01529785492641313\n",
      "Mean : 0.3475477690005209, Standard Deviation : 0.014378986224937334\n",
      "Mean : 0.34216408999986014, Standard Deviation : 0.010384712262973292\n",
      "\n",
      "========\n"
     ]
    }
   ],
   "source": [
    "M=5\n",
    "\n",
    "\n",
    "for cutoff in cutoff_vals:\n",
    "    run_times=[]\n",
    "    for runs in range(M):\n",
    "        elapsed_times=[]\n",
    "        for l in randomlist_list2:\n",
    "            l=l.copy()\n",
    "            starttime = time.perf_counter()\n",
    "            quicksort(l,0,len(l),cutoff)\n",
    "            elapsed = time.perf_counter() - starttime\n",
    "            elapsed_times.append(elapsed)\n",
    "        run_times.append((np.mean(elapsed_times),np.std(elapsed_times)))\n",
    "    print(\"Cutoff : {}\".format(cutoff))\n",
    "    for i in run_times:\n",
    "        print(\"Mean : {}, Standard Deviation : {}\".format(i[0],i[1]))\n",
    "    print(\"\")\n",
    "    print(\"========\")"
   ]
  },
  {
   "cell_type": "markdown",
   "id": "14b7c489",
   "metadata": {},
   "source": [
    " The optimum cutoff might be around 10. Let us check values around 10."
   ]
  },
  {
   "cell_type": "code",
   "execution_count": 15,
   "id": "98c6aac8",
   "metadata": {},
   "outputs": [
    {
     "name": "stdout",
     "output_type": "stream",
     "text": [
      "Cutoff : 8\n",
      "Mean : 0.21987328399554826, Standard Deviation : 0.018600543084213727\n",
      "Mean : 0.21635582200251519, Standard Deviation : 0.00956849896645517\n",
      "Mean : 0.214509683996439, Standard Deviation : 0.008660540463936947\n",
      "Mean : 0.21628012800239957, Standard Deviation : 0.009356160370577935\n",
      "Mean : 0.21430263000307603, Standard Deviation : 0.00856899607007613\n",
      "\n",
      "========\n",
      "Cutoff : 9\n",
      "Mean : 0.21448175199970138, Standard Deviation : 0.008637542931554843\n",
      "Mean : 0.22158429999952203, Standard Deviation : 0.0323000765925181\n",
      "Mean : 0.21451934100070502, Standard Deviation : 0.009102115896804583\n",
      "Mean : 0.2153571689990349, Standard Deviation : 0.009127730186428085\n",
      "Mean : 0.21430900199862662, Standard Deviation : 0.008600195402275591\n",
      "\n",
      "========\n",
      "Cutoff : 10\n",
      "Mean : 0.21390173799998594, Standard Deviation : 0.008795300255821181\n",
      "Mean : 0.21347781600023155, Standard Deviation : 0.008572694287868181\n",
      "Mean : 0.21408532000030392, Standard Deviation : 0.00872419216836622\n",
      "Mean : 0.21930297399871052, Standard Deviation : 0.012916521765151635\n",
      "Mean : 0.22660791900241747, Standard Deviation : 0.01307368162093679\n",
      "\n",
      "========\n",
      "Cutoff : 11\n",
      "Mean : 0.2168489839992253, Standard Deviation : 0.00928137838422817\n",
      "Mean : 0.21466279799933546, Standard Deviation : 0.008800857704076357\n",
      "Mean : 0.21559872999961954, Standard Deviation : 0.00868165941732021\n",
      "Mean : 0.21619860599865207, Standard Deviation : 0.008873591756933245\n",
      "Mean : 0.2153844979981659, Standard Deviation : 0.009591642362731832\n",
      "\n",
      "========\n",
      "Cutoff : 12\n",
      "Mean : 0.21489519999944606, Standard Deviation : 0.008982573306325957\n",
      "Mean : 0.21384208900039084, Standard Deviation : 0.008522268077073904\n",
      "Mean : 0.21506299599946943, Standard Deviation : 0.008655451267079249\n",
      "Mean : 0.21421062799810897, Standard Deviation : 0.008451852452310109\n",
      "Mean : 0.2136276240082225, Standard Deviation : 0.008592940005262693\n",
      "\n",
      "========\n",
      "Cutoff : 13\n",
      "Mean : 0.21556043599790428, Standard Deviation : 0.009293584953452342\n",
      "Mean : 0.21731571999960578, Standard Deviation : 0.00943440032641076\n",
      "Mean : 0.21850319599965587, Standard Deviation : 0.009026020394063331\n",
      "Mean : 0.21767305700108408, Standard Deviation : 0.009655759514572993\n",
      "Mean : 0.2150832490005996, Standard Deviation : 0.009196736822870324\n",
      "\n",
      "========\n",
      "Cutoff : 14\n",
      "Mean : 0.21606863199616783, Standard Deviation : 0.008739262411175135\n",
      "Mean : 0.21504801100003534, Standard Deviation : 0.008592776417692417\n",
      "Mean : 0.215492686998914, Standard Deviation : 0.009094754585143524\n",
      "Mean : 0.21572761699790136, Standard Deviation : 0.009006645085665652\n",
      "Mean : 0.2150282769993646, Standard Deviation : 0.008706397986118788\n",
      "\n",
      "========\n"
     ]
    }
   ],
   "source": [
    "M=5\n",
    "\n",
    "\n",
    "for cutoff in range(8,15):\n",
    "    run_times=[]\n",
    "    for runs in range(M):\n",
    "        elapsed_times=[]\n",
    "        for l in randomlist_list2:\n",
    "            l=l.copy()\n",
    "            starttime = time.perf_counter()\n",
    "            quicksort(l,0,len(l),cutoff)\n",
    "            elapsed = time.perf_counter() - starttime\n",
    "            elapsed_times.append(elapsed)\n",
    "        run_times.append((np.mean(elapsed_times),np.std(elapsed_times)))\n",
    "    print(\"Cutoff : {}\".format(cutoff))\n",
    "    for i in run_times:\n",
    "        print(\"Mean : {}, Standard Deviation : {}\".format(i[0],i[1]))\n",
    "    print(\"\")\n",
    "    print(\"========\")"
   ]
  },
  {
   "cell_type": "markdown",
   "id": "af173684",
   "metadata": {},
   "source": [
    "Thus, the optimum is 12."
   ]
  }
 ],
 "metadata": {
  "kernelspec": {
   "display_name": "Python 3 (ipykernel)",
   "language": "python",
   "name": "python3"
  },
  "language_info": {
   "codemirror_mode": {
    "name": "ipython",
    "version": 3
   },
   "file_extension": ".py",
   "mimetype": "text/x-python",
   "name": "python",
   "nbconvert_exporter": "python",
   "pygments_lexer": "ipython3",
   "version": "3.10.6"
  }
 },
 "nbformat": 4,
 "nbformat_minor": 5
}
